{
 "cells": [
  {
   "cell_type": "markdown",
   "id": "cbc63858",
   "metadata": {},
   "source": [
    "# Reinforcement Learning for Stock Trading\n",
    "\n",
    "Welcome to this notebook where we explore how to train a reinforcement learning (RL) agent to trade stocks using real historical data from **Apple Inc. (AAPL)**. We will explore the application of **Q-Learning**, a classical reinforcement learning technique. Our goal is to train an RL agent to make buy, sell, or hold decisions based on technical indicators derived from historical market data.\n",
    "\n",
    "Our workflow will include:\n",
    "- Collecting and preprocessing market data\n",
    "- Engineering meaningful features using technical indicators\n",
    "- Designing a custom trading environment\n",
    "- Training and evaluating RL agents\n",
    "\n",
    "Let's begin by installing and importing the necessary libraries."
   ]
  },
  {
   "cell_type": "code",
   "execution_count": null,
   "id": "ad267568",
   "metadata": {},
   "outputs": [
    {
     "name": "stdout",
     "output_type": "stream",
     "text": [
      "Requirement already satisfied: yfinance in ./.venv/lib/python3.9/site-packages (0.2.55)\n",
      "Requirement already satisfied: pandas>=1.3.0 in ./.venv/lib/python3.9/site-packages (from yfinance) (2.2.3)\n",
      "Requirement already satisfied: numpy>=1.16.5 in ./.venv/lib/python3.9/site-packages (from yfinance) (2.0.2)\n",
      "Requirement already satisfied: requests>=2.31 in ./.venv/lib/python3.9/site-packages (from yfinance) (2.32.3)\n",
      "Requirement already satisfied: multitasking>=0.0.7 in ./.venv/lib/python3.9/site-packages (from yfinance) (0.0.11)\n",
      "Requirement already satisfied: platformdirs>=2.0.0 in ./.venv/lib/python3.9/site-packages (from yfinance) (4.3.7)\n",
      "Requirement already satisfied: pytz>=2022.5 in ./.venv/lib/python3.9/site-packages (from yfinance) (2025.2)\n",
      "Requirement already satisfied: frozendict>=2.3.4 in ./.venv/lib/python3.9/site-packages (from yfinance) (2.4.6)\n",
      "Requirement already satisfied: peewee>=3.16.2 in ./.venv/lib/python3.9/site-packages (from yfinance) (3.17.9)\n",
      "Requirement already satisfied: beautifulsoup4>=4.11.1 in ./.venv/lib/python3.9/site-packages (from yfinance) (4.13.3)\n",
      "Requirement already satisfied: soupsieve>1.2 in ./.venv/lib/python3.9/site-packages (from beautifulsoup4>=4.11.1->yfinance) (2.6)\n",
      "Requirement already satisfied: typing-extensions>=4.0.0 in ./.venv/lib/python3.9/site-packages (from beautifulsoup4>=4.11.1->yfinance) (4.13.0)\n",
      "Requirement already satisfied: python-dateutil>=2.8.2 in ./.venv/lib/python3.9/site-packages (from pandas>=1.3.0->yfinance) (2.9.0.post0)\n",
      "Requirement already satisfied: tzdata>=2022.7 in ./.venv/lib/python3.9/site-packages (from pandas>=1.3.0->yfinance) (2025.2)\n",
      "Requirement already satisfied: charset-normalizer<4,>=2 in ./.venv/lib/python3.9/site-packages (from requests>=2.31->yfinance) (3.4.1)\n",
      "Requirement already satisfied: idna<4,>=2.5 in ./.venv/lib/python3.9/site-packages (from requests>=2.31->yfinance) (3.10)\n",
      "Requirement already satisfied: urllib3<3,>=1.21.1 in ./.venv/lib/python3.9/site-packages (from requests>=2.31->yfinance) (2.3.0)\n",
      "Requirement already satisfied: certifi>=2017.4.17 in ./.venv/lib/python3.9/site-packages (from requests>=2.31->yfinance) (2025.1.31)\n",
      "Requirement already satisfied: six>=1.5 in ./.venv/lib/python3.9/site-packages (from python-dateutil>=2.8.2->pandas>=1.3.0->yfinance) (1.17.0)\n",
      "Requirement already satisfied: gymnasium in ./.venv/lib/python3.9/site-packages (1.1.1)\n",
      "Requirement already satisfied: numpy>=1.21.0 in ./.venv/lib/python3.9/site-packages (from gymnasium) (2.0.2)\n",
      "Requirement already satisfied: cloudpickle>=1.2.0 in ./.venv/lib/python3.9/site-packages (from gymnasium) (3.1.1)\n",
      "Requirement already satisfied: importlib-metadata>=4.8.0 in ./.venv/lib/python3.9/site-packages (from gymnasium) (8.6.1)\n",
      "Requirement already satisfied: typing-extensions>=4.3.0 in ./.venv/lib/python3.9/site-packages (from gymnasium) (4.13.0)\n",
      "Requirement already satisfied: farama-notifications>=0.0.1 in ./.venv/lib/python3.9/site-packages (from gymnasium) (0.0.4)\n",
      "Requirement already satisfied: zipp>=3.20 in ./.venv/lib/python3.9/site-packages (from importlib-metadata>=4.8.0->gymnasium) (3.21.0)\n",
      "Requirement already satisfied: matplotlib in ./.venv/lib/python3.9/site-packages (3.9.4)\n",
      "Requirement already satisfied: contourpy>=1.0.1 in ./.venv/lib/python3.9/site-packages (from matplotlib) (1.3.0)\n",
      "Requirement already satisfied: cycler>=0.10 in ./.venv/lib/python3.9/site-packages (from matplotlib) (0.12.1)\n",
      "Requirement already satisfied: fonttools>=4.22.0 in ./.venv/lib/python3.9/site-packages (from matplotlib) (4.57.0)\n",
      "Requirement already satisfied: kiwisolver>=1.3.1 in ./.venv/lib/python3.9/site-packages (from matplotlib) (1.4.7)\n",
      "Requirement already satisfied: numpy>=1.23 in ./.venv/lib/python3.9/site-packages (from matplotlib) (2.0.2)\n",
      "Requirement already satisfied: packaging>=20.0 in ./.venv/lib/python3.9/site-packages (from matplotlib) (24.2)\n",
      "Requirement already satisfied: pillow>=8 in ./.venv/lib/python3.9/site-packages (from matplotlib) (11.1.0)\n",
      "Requirement already satisfied: pyparsing>=2.3.1 in ./.venv/lib/python3.9/site-packages (from matplotlib) (3.2.3)\n",
      "Requirement already satisfied: python-dateutil>=2.7 in ./.venv/lib/python3.9/site-packages (from matplotlib) (2.9.0.post0)\n",
      "Requirement already satisfied: importlib-resources>=3.2.0 in ./.venv/lib/python3.9/site-packages (from matplotlib) (6.5.2)\n",
      "Requirement already satisfied: zipp>=3.1.0 in ./.venv/lib/python3.9/site-packages (from importlib-resources>=3.2.0->matplotlib) (3.21.0)\n",
      "Requirement already satisfied: six>=1.5 in ./.venv/lib/python3.9/site-packages (from python-dateutil>=2.7->matplotlib) (1.17.0)\n"
     ]
    }
   ],
   "source": [
    "!pip3 install yfinance\n",
    "!pip3 install numpy\n",
    "!pip3 install gymnasium\n",
    "!pip3 install matplotlib"
   ]
  },
  {
   "cell_type": "code",
   "execution_count": 1,
   "id": "1c03d70d",
   "metadata": {},
   "outputs": [],
   "source": [
    "import yfinance as yf\n",
    "from technical_indicators import technical_indicators\n",
    "from q_learning import QLearningAgent\n",
    "from environment import TradingEnv\n",
    "import numpy as np\n",
    "import matplotlib.pyplot as plt\n",
    "\n",
    "seed=42"
   ]
  },
  {
   "cell_type": "markdown",
   "id": "9b2ae2a1",
   "metadata": {},
   "source": [
    "# Collecting and Preprocessing market data\n",
    "\n",
    "In this section, we will download historical market data for **Apple Inc. (AAPL)** and preprocess it for use in our Q-Learning environment. This will include generating technical indicators, handling missing values, and preparing the data for training our agent."
   ]
  },
  {
   "cell_type": "code",
   "execution_count": 2,
   "id": "a106c349",
   "metadata": {},
   "outputs": [
    {
     "name": "stdout",
     "output_type": "stream",
     "text": [
      "YF.download() has changed argument auto_adjust default to True\n"
     ]
    },
    {
     "name": "stderr",
     "output_type": "stream",
     "text": [
      "[*********************100%***********************]  1 of 1 completed\n"
     ]
    }
   ],
   "source": [
    "df = yf.download(\"AAPL\", start=\"2015-01-01\", end=\"2024-01-01\", multi_level_index=False)"
   ]
  },
  {
   "cell_type": "markdown",
   "id": "a61aae90",
   "metadata": {},
   "source": [
    "Let's have a first look at the downloaded data."
   ]
  },
  {
   "cell_type": "code",
   "execution_count": 3,
   "id": "712d0cee",
   "metadata": {},
   "outputs": [
    {
     "data": {
      "text/html": [
       "<div>\n",
       "<style scoped>\n",
       "    .dataframe tbody tr th:only-of-type {\n",
       "        vertical-align: middle;\n",
       "    }\n",
       "\n",
       "    .dataframe tbody tr th {\n",
       "        vertical-align: top;\n",
       "    }\n",
       "\n",
       "    .dataframe thead th {\n",
       "        text-align: right;\n",
       "    }\n",
       "</style>\n",
       "<table border=\"1\" class=\"dataframe\">\n",
       "  <thead>\n",
       "    <tr style=\"text-align: right;\">\n",
       "      <th></th>\n",
       "      <th>Close</th>\n",
       "      <th>High</th>\n",
       "      <th>Low</th>\n",
       "      <th>Open</th>\n",
       "      <th>Volume</th>\n",
       "    </tr>\n",
       "    <tr>\n",
       "      <th>Date</th>\n",
       "      <th></th>\n",
       "      <th></th>\n",
       "      <th></th>\n",
       "      <th></th>\n",
       "      <th></th>\n",
       "    </tr>\n",
       "  </thead>\n",
       "  <tbody>\n",
       "    <tr>\n",
       "      <th>2015-01-02</th>\n",
       "      <td>24.320433</td>\n",
       "      <td>24.789802</td>\n",
       "      <td>23.879981</td>\n",
       "      <td>24.778679</td>\n",
       "      <td>212818400</td>\n",
       "    </tr>\n",
       "    <tr>\n",
       "      <th>2015-01-05</th>\n",
       "      <td>23.635290</td>\n",
       "      <td>24.169170</td>\n",
       "      <td>23.448433</td>\n",
       "      <td>24.089088</td>\n",
       "      <td>257142000</td>\n",
       "    </tr>\n",
       "    <tr>\n",
       "      <th>2015-01-06</th>\n",
       "      <td>23.637512</td>\n",
       "      <td>23.897778</td>\n",
       "      <td>23.274918</td>\n",
       "      <td>23.699798</td>\n",
       "      <td>263188400</td>\n",
       "    </tr>\n",
       "    <tr>\n",
       "      <th>2015-01-07</th>\n",
       "      <td>23.968966</td>\n",
       "      <td>24.069067</td>\n",
       "      <td>23.735393</td>\n",
       "      <td>23.846617</td>\n",
       "      <td>160423600</td>\n",
       "    </tr>\n",
       "    <tr>\n",
       "      <th>2015-01-08</th>\n",
       "      <td>24.889902</td>\n",
       "      <td>24.947740</td>\n",
       "      <td>24.180287</td>\n",
       "      <td>24.298187</td>\n",
       "      <td>237458000</td>\n",
       "    </tr>\n",
       "  </tbody>\n",
       "</table>\n",
       "</div>"
      ],
      "text/plain": [
       "                Close       High        Low       Open     Volume\n",
       "Date                                                             \n",
       "2015-01-02  24.320433  24.789802  23.879981  24.778679  212818400\n",
       "2015-01-05  23.635290  24.169170  23.448433  24.089088  257142000\n",
       "2015-01-06  23.637512  23.897778  23.274918  23.699798  263188400\n",
       "2015-01-07  23.968966  24.069067  23.735393  23.846617  160423600\n",
       "2015-01-08  24.889902  24.947740  24.180287  24.298187  237458000"
      ]
     },
     "execution_count": 3,
     "metadata": {},
     "output_type": "execute_result"
    }
   ],
   "source": [
    "df.head()"
   ]
  },
  {
   "cell_type": "markdown",
   "id": "f17d7d19",
   "metadata": {},
   "source": [
    "Next, we calculate the technical indicators that will serve as the basis for our Q-Learning agent's decision-making process. These indicators include:\n",
    "- Relative Strength Index (RSI)\n",
    "- Moving Average Convergence Divergence (MACD)\n",
    "- Simple Moving Average (SMA) Crossover\n",
    "- Bollinger Bands\n",
    "- Stochastic Oscillator (SO)\n",
    "\n",
    "These indicators will help the agent assess market conditions and make informed trading decisions."
   ]
  },
  {
   "cell_type": "code",
   "execution_count": 4,
   "id": "0d209dea",
   "metadata": {},
   "outputs": [
    {
     "data": {
      "text/html": [
       "<div>\n",
       "<style scoped>\n",
       "    .dataframe tbody tr th:only-of-type {\n",
       "        vertical-align: middle;\n",
       "    }\n",
       "\n",
       "    .dataframe tbody tr th {\n",
       "        vertical-align: top;\n",
       "    }\n",
       "\n",
       "    .dataframe thead th {\n",
       "        text-align: right;\n",
       "    }\n",
       "</style>\n",
       "<table border=\"1\" class=\"dataframe\">\n",
       "  <thead>\n",
       "    <tr style=\"text-align: right;\">\n",
       "      <th></th>\n",
       "      <th>Close</th>\n",
       "      <th>High</th>\n",
       "      <th>Low</th>\n",
       "      <th>Open</th>\n",
       "      <th>Volume</th>\n",
       "      <th>SMA</th>\n",
       "      <th>EMA</th>\n",
       "      <th>SMA_short</th>\n",
       "      <th>SMA_long</th>\n",
       "      <th>Crossover_signal</th>\n",
       "      <th>RSI</th>\n",
       "      <th>RSI_signal</th>\n",
       "      <th>MACD_signal</th>\n",
       "      <th>Upper_Band</th>\n",
       "      <th>Lower_Band</th>\n",
       "      <th>BB_signal</th>\n",
       "      <th>Stochastic_Osc</th>\n",
       "      <th>SO_signal</th>\n",
       "    </tr>\n",
       "    <tr>\n",
       "      <th>Date</th>\n",
       "      <th></th>\n",
       "      <th></th>\n",
       "      <th></th>\n",
       "      <th></th>\n",
       "      <th></th>\n",
       "      <th></th>\n",
       "      <th></th>\n",
       "      <th></th>\n",
       "      <th></th>\n",
       "      <th></th>\n",
       "      <th></th>\n",
       "      <th></th>\n",
       "      <th></th>\n",
       "      <th></th>\n",
       "      <th></th>\n",
       "      <th></th>\n",
       "      <th></th>\n",
       "      <th></th>\n",
       "    </tr>\n",
       "  </thead>\n",
       "  <tbody>\n",
       "    <tr>\n",
       "      <th>2015-01-02</th>\n",
       "      <td>24.320433</td>\n",
       "      <td>24.789802</td>\n",
       "      <td>23.879981</td>\n",
       "      <td>24.778679</td>\n",
       "      <td>212818400</td>\n",
       "      <td>NaN</td>\n",
       "      <td>24.320433</td>\n",
       "      <td>NaN</td>\n",
       "      <td>NaN</td>\n",
       "      <td>0</td>\n",
       "      <td>NaN</td>\n",
       "      <td>0</td>\n",
       "      <td>0</td>\n",
       "      <td>NaN</td>\n",
       "      <td>NaN</td>\n",
       "      <td>0</td>\n",
       "      <td>NaN</td>\n",
       "      <td>0</td>\n",
       "    </tr>\n",
       "    <tr>\n",
       "      <th>2015-01-05</th>\n",
       "      <td>23.635290</td>\n",
       "      <td>24.169170</td>\n",
       "      <td>23.448433</td>\n",
       "      <td>24.089088</td>\n",
       "      <td>257142000</td>\n",
       "      <td>NaN</td>\n",
       "      <td>24.229080</td>\n",
       "      <td>NaN</td>\n",
       "      <td>NaN</td>\n",
       "      <td>0</td>\n",
       "      <td>NaN</td>\n",
       "      <td>0</td>\n",
       "      <td>-1</td>\n",
       "      <td>NaN</td>\n",
       "      <td>NaN</td>\n",
       "      <td>0</td>\n",
       "      <td>NaN</td>\n",
       "      <td>0</td>\n",
       "    </tr>\n",
       "    <tr>\n",
       "      <th>2015-01-06</th>\n",
       "      <td>23.637512</td>\n",
       "      <td>23.897778</td>\n",
       "      <td>23.274918</td>\n",
       "      <td>23.699798</td>\n",
       "      <td>263188400</td>\n",
       "      <td>NaN</td>\n",
       "      <td>24.150205</td>\n",
       "      <td>NaN</td>\n",
       "      <td>NaN</td>\n",
       "      <td>0</td>\n",
       "      <td>NaN</td>\n",
       "      <td>0</td>\n",
       "      <td>0</td>\n",
       "      <td>NaN</td>\n",
       "      <td>NaN</td>\n",
       "      <td>0</td>\n",
       "      <td>NaN</td>\n",
       "      <td>0</td>\n",
       "    </tr>\n",
       "    <tr>\n",
       "      <th>2015-01-07</th>\n",
       "      <td>23.968966</td>\n",
       "      <td>24.069067</td>\n",
       "      <td>23.735393</td>\n",
       "      <td>23.846617</td>\n",
       "      <td>160423600</td>\n",
       "      <td>NaN</td>\n",
       "      <td>24.126039</td>\n",
       "      <td>NaN</td>\n",
       "      <td>NaN</td>\n",
       "      <td>0</td>\n",
       "      <td>NaN</td>\n",
       "      <td>0</td>\n",
       "      <td>0</td>\n",
       "      <td>NaN</td>\n",
       "      <td>NaN</td>\n",
       "      <td>0</td>\n",
       "      <td>NaN</td>\n",
       "      <td>0</td>\n",
       "    </tr>\n",
       "    <tr>\n",
       "      <th>2015-01-08</th>\n",
       "      <td>24.889902</td>\n",
       "      <td>24.947740</td>\n",
       "      <td>24.180287</td>\n",
       "      <td>24.298187</td>\n",
       "      <td>237458000</td>\n",
       "      <td>NaN</td>\n",
       "      <td>24.227888</td>\n",
       "      <td>24.090421</td>\n",
       "      <td>NaN</td>\n",
       "      <td>0</td>\n",
       "      <td>NaN</td>\n",
       "      <td>0</td>\n",
       "      <td>1</td>\n",
       "      <td>NaN</td>\n",
       "      <td>NaN</td>\n",
       "      <td>0</td>\n",
       "      <td>NaN</td>\n",
       "      <td>0</td>\n",
       "    </tr>\n",
       "  </tbody>\n",
       "</table>\n",
       "</div>"
      ],
      "text/plain": [
       "                Close       High        Low       Open     Volume  SMA  \\\n",
       "Date                                                                     \n",
       "2015-01-02  24.320433  24.789802  23.879981  24.778679  212818400  NaN   \n",
       "2015-01-05  23.635290  24.169170  23.448433  24.089088  257142000  NaN   \n",
       "2015-01-06  23.637512  23.897778  23.274918  23.699798  263188400  NaN   \n",
       "2015-01-07  23.968966  24.069067  23.735393  23.846617  160423600  NaN   \n",
       "2015-01-08  24.889902  24.947740  24.180287  24.298187  237458000  NaN   \n",
       "\n",
       "                  EMA  SMA_short  SMA_long  Crossover_signal  RSI  RSI_signal  \\\n",
       "Date                                                                            \n",
       "2015-01-02  24.320433        NaN       NaN                 0  NaN           0   \n",
       "2015-01-05  24.229080        NaN       NaN                 0  NaN           0   \n",
       "2015-01-06  24.150205        NaN       NaN                 0  NaN           0   \n",
       "2015-01-07  24.126039        NaN       NaN                 0  NaN           0   \n",
       "2015-01-08  24.227888  24.090421       NaN                 0  NaN           0   \n",
       "\n",
       "            MACD_signal  Upper_Band  Lower_Band  BB_signal  Stochastic_Osc  \\\n",
       "Date                                                                         \n",
       "2015-01-02            0         NaN         NaN          0             NaN   \n",
       "2015-01-05           -1         NaN         NaN          0             NaN   \n",
       "2015-01-06            0         NaN         NaN          0             NaN   \n",
       "2015-01-07            0         NaN         NaN          0             NaN   \n",
       "2015-01-08            1         NaN         NaN          0             NaN   \n",
       "\n",
       "            SO_signal  \n",
       "Date                   \n",
       "2015-01-02          0  \n",
       "2015-01-05          0  \n",
       "2015-01-06          0  \n",
       "2015-01-07          0  \n",
       "2015-01-08          0  "
      ]
     },
     "execution_count": 4,
     "metadata": {},
     "output_type": "execute_result"
    }
   ],
   "source": [
    "technical_indicators(df=df)\n",
    "df.head()"
   ]
  },
  {
   "cell_type": "markdown",
   "id": "e086017c",
   "metadata": {},
   "source": [
    "Since some of these indicators, like the moving averages, generate NaN values in the initial rows, we drop these rows to ensure the data is clean and ready for use by our agent."
   ]
  },
  {
   "cell_type": "code",
   "execution_count": 5,
   "id": "af3402a1",
   "metadata": {},
   "outputs": [
    {
     "data": {
      "text/html": [
       "<div>\n",
       "<style scoped>\n",
       "    .dataframe tbody tr th:only-of-type {\n",
       "        vertical-align: middle;\n",
       "    }\n",
       "\n",
       "    .dataframe tbody tr th {\n",
       "        vertical-align: top;\n",
       "    }\n",
       "\n",
       "    .dataframe thead th {\n",
       "        text-align: right;\n",
       "    }\n",
       "</style>\n",
       "<table border=\"1\" class=\"dataframe\">\n",
       "  <thead>\n",
       "    <tr style=\"text-align: right;\">\n",
       "      <th></th>\n",
       "      <th>Close</th>\n",
       "      <th>High</th>\n",
       "      <th>Low</th>\n",
       "      <th>Open</th>\n",
       "      <th>Volume</th>\n",
       "      <th>SMA</th>\n",
       "      <th>EMA</th>\n",
       "      <th>SMA_short</th>\n",
       "      <th>SMA_long</th>\n",
       "      <th>Crossover_signal</th>\n",
       "      <th>RSI</th>\n",
       "      <th>RSI_signal</th>\n",
       "      <th>MACD_signal</th>\n",
       "      <th>Upper_Band</th>\n",
       "      <th>Lower_Band</th>\n",
       "      <th>BB_signal</th>\n",
       "      <th>Stochastic_Osc</th>\n",
       "      <th>SO_signal</th>\n",
       "    </tr>\n",
       "    <tr>\n",
       "      <th>Date</th>\n",
       "      <th></th>\n",
       "      <th></th>\n",
       "      <th></th>\n",
       "      <th></th>\n",
       "      <th></th>\n",
       "      <th></th>\n",
       "      <th></th>\n",
       "      <th></th>\n",
       "      <th></th>\n",
       "      <th></th>\n",
       "      <th></th>\n",
       "      <th></th>\n",
       "      <th></th>\n",
       "      <th></th>\n",
       "      <th></th>\n",
       "      <th></th>\n",
       "      <th></th>\n",
       "      <th></th>\n",
       "    </tr>\n",
       "  </thead>\n",
       "  <tbody>\n",
       "    <tr>\n",
       "      <th>2015-01-30</th>\n",
       "      <td>26.062216</td>\n",
       "      <td>26.693972</td>\n",
       "      <td>25.993255</td>\n",
       "      <td>26.338053</td>\n",
       "      <td>334982000</td>\n",
       "      <td>24.986668</td>\n",
       "      <td>25.041500</td>\n",
       "      <td>25.519879</td>\n",
       "      <td>24.612175</td>\n",
       "      <td>0</td>\n",
       "      <td>58.434388</td>\n",
       "      <td>0</td>\n",
       "      <td>0</td>\n",
       "      <td>26.210716</td>\n",
       "      <td>23.013634</td>\n",
       "      <td>0</td>\n",
       "      <td>86.522464</td>\n",
       "      <td>-1</td>\n",
       "    </tr>\n",
       "    <tr>\n",
       "      <th>2015-02-02</th>\n",
       "      <td>26.389217</td>\n",
       "      <td>26.509340</td>\n",
       "      <td>25.821971</td>\n",
       "      <td>26.260198</td>\n",
       "      <td>250956400</td>\n",
       "      <td>25.267846</td>\n",
       "      <td>25.221196</td>\n",
       "      <td>25.765910</td>\n",
       "      <td>24.715614</td>\n",
       "      <td>0</td>\n",
       "      <td>66.039749</td>\n",
       "      <td>0</td>\n",
       "      <td>0</td>\n",
       "      <td>26.492460</td>\n",
       "      <td>22.938769</td>\n",
       "      <td>0</td>\n",
       "      <td>97.909025</td>\n",
       "      <td>-1</td>\n",
       "    </tr>\n",
       "    <tr>\n",
       "      <th>2015-02-03</th>\n",
       "      <td>26.393665</td>\n",
       "      <td>26.491542</td>\n",
       "      <td>26.162317</td>\n",
       "      <td>26.360298</td>\n",
       "      <td>207662800</td>\n",
       "      <td>25.488738</td>\n",
       "      <td>25.377525</td>\n",
       "      <td>26.189009</td>\n",
       "      <td>24.853533</td>\n",
       "      <td>0</td>\n",
       "      <td>64.899357</td>\n",
       "      <td>0</td>\n",
       "      <td>0</td>\n",
       "      <td>26.703991</td>\n",
       "      <td>23.003075</td>\n",
       "      <td>0</td>\n",
       "      <td>98.063907</td>\n",
       "      <td>-1</td>\n",
       "    </tr>\n",
       "    <tr>\n",
       "      <th>2015-02-04</th>\n",
       "      <td>26.596092</td>\n",
       "      <td>26.807421</td>\n",
       "      <td>26.318030</td>\n",
       "      <td>26.360296</td>\n",
       "      <td>280598800</td>\n",
       "      <td>25.711410</td>\n",
       "      <td>25.540001</td>\n",
       "      <td>26.378091</td>\n",
       "      <td>25.001462</td>\n",
       "      <td>0</td>\n",
       "      <td>66.956301</td>\n",
       "      <td>0</td>\n",
       "      <td>0</td>\n",
       "      <td>26.914579</td>\n",
       "      <td>23.088345</td>\n",
       "      <td>0</td>\n",
       "      <td>100.000000</td>\n",
       "      <td>-1</td>\n",
       "    </tr>\n",
       "    <tr>\n",
       "      <th>2015-02-05</th>\n",
       "      <td>26.785921</td>\n",
       "      <td>26.850686</td>\n",
       "      <td>26.631824</td>\n",
       "      <td>26.803786</td>\n",
       "      <td>168984800</td>\n",
       "      <td>25.889667</td>\n",
       "      <td>25.706124</td>\n",
       "      <td>26.445422</td>\n",
       "      <td>25.142310</td>\n",
       "      <td>0</td>\n",
       "      <td>75.500361</td>\n",
       "      <td>1</td>\n",
       "      <td>0</td>\n",
       "      <td>27.147910</td>\n",
       "      <td>23.136709</td>\n",
       "      <td>0</td>\n",
       "      <td>100.000000</td>\n",
       "      <td>-1</td>\n",
       "    </tr>\n",
       "  </tbody>\n",
       "</table>\n",
       "</div>"
      ],
      "text/plain": [
       "                Close       High        Low       Open     Volume        SMA  \\\n",
       "Date                                                                           \n",
       "2015-01-30  26.062216  26.693972  25.993255  26.338053  334982000  24.986668   \n",
       "2015-02-02  26.389217  26.509340  25.821971  26.260198  250956400  25.267846   \n",
       "2015-02-03  26.393665  26.491542  26.162317  26.360298  207662800  25.488738   \n",
       "2015-02-04  26.596092  26.807421  26.318030  26.360296  280598800  25.711410   \n",
       "2015-02-05  26.785921  26.850686  26.631824  26.803786  168984800  25.889667   \n",
       "\n",
       "                  EMA  SMA_short   SMA_long  Crossover_signal        RSI  \\\n",
       "Date                                                                       \n",
       "2015-01-30  25.041500  25.519879  24.612175                 0  58.434388   \n",
       "2015-02-02  25.221196  25.765910  24.715614                 0  66.039749   \n",
       "2015-02-03  25.377525  26.189009  24.853533                 0  64.899357   \n",
       "2015-02-04  25.540001  26.378091  25.001462                 0  66.956301   \n",
       "2015-02-05  25.706124  26.445422  25.142310                 0  75.500361   \n",
       "\n",
       "            RSI_signal  MACD_signal  Upper_Band  Lower_Band  BB_signal  \\\n",
       "Date                                                                     \n",
       "2015-01-30           0            0   26.210716   23.013634          0   \n",
       "2015-02-02           0            0   26.492460   22.938769          0   \n",
       "2015-02-03           0            0   26.703991   23.003075          0   \n",
       "2015-02-04           0            0   26.914579   23.088345          0   \n",
       "2015-02-05           1            0   27.147910   23.136709          0   \n",
       "\n",
       "            Stochastic_Osc  SO_signal  \n",
       "Date                                   \n",
       "2015-01-30       86.522464         -1  \n",
       "2015-02-02       97.909025         -1  \n",
       "2015-02-03       98.063907         -1  \n",
       "2015-02-04      100.000000         -1  \n",
       "2015-02-05      100.000000         -1  "
      ]
     },
     "execution_count": 5,
     "metadata": {},
     "output_type": "execute_result"
    }
   ],
   "source": [
    "df.dropna(axis=0, how='any', inplace=True)\n",
    "df.head()"
   ]
  },
  {
   "cell_type": "markdown",
   "id": "c619c257",
   "metadata": {},
   "source": [
    "As a final preprocessing step, we need to adjust the index of our dataset to match the requirements of our reinforcement learning agent. Specifically, we reset the index so that it starts from 0 and goes up to the length of the dataset. This ensures the agent can properly interact with the environment using a consistent and sequential index."
   ]
  },
  {
   "cell_type": "code",
   "execution_count": 6,
   "id": "2f00adfd",
   "metadata": {},
   "outputs": [
    {
     "data": {
      "text/html": [
       "<div>\n",
       "<style scoped>\n",
       "    .dataframe tbody tr th:only-of-type {\n",
       "        vertical-align: middle;\n",
       "    }\n",
       "\n",
       "    .dataframe tbody tr th {\n",
       "        vertical-align: top;\n",
       "    }\n",
       "\n",
       "    .dataframe thead th {\n",
       "        text-align: right;\n",
       "    }\n",
       "</style>\n",
       "<table border=\"1\" class=\"dataframe\">\n",
       "  <thead>\n",
       "    <tr style=\"text-align: right;\">\n",
       "      <th></th>\n",
       "      <th>Close</th>\n",
       "      <th>High</th>\n",
       "      <th>Low</th>\n",
       "      <th>Open</th>\n",
       "      <th>Volume</th>\n",
       "      <th>SMA</th>\n",
       "      <th>EMA</th>\n",
       "      <th>SMA_short</th>\n",
       "      <th>SMA_long</th>\n",
       "      <th>Crossover_signal</th>\n",
       "      <th>RSI</th>\n",
       "      <th>RSI_signal</th>\n",
       "      <th>MACD_signal</th>\n",
       "      <th>Upper_Band</th>\n",
       "      <th>Lower_Band</th>\n",
       "      <th>BB_signal</th>\n",
       "      <th>Stochastic_Osc</th>\n",
       "      <th>SO_signal</th>\n",
       "      <th>Date</th>\n",
       "    </tr>\n",
       "  </thead>\n",
       "  <tbody>\n",
       "    <tr>\n",
       "      <th>0</th>\n",
       "      <td>26.062216</td>\n",
       "      <td>26.693972</td>\n",
       "      <td>25.993255</td>\n",
       "      <td>26.338053</td>\n",
       "      <td>334982000</td>\n",
       "      <td>24.986668</td>\n",
       "      <td>25.041500</td>\n",
       "      <td>25.519879</td>\n",
       "      <td>24.612175</td>\n",
       "      <td>0</td>\n",
       "      <td>58.434388</td>\n",
       "      <td>0</td>\n",
       "      <td>0</td>\n",
       "      <td>26.210716</td>\n",
       "      <td>23.013634</td>\n",
       "      <td>0</td>\n",
       "      <td>86.522464</td>\n",
       "      <td>-1</td>\n",
       "      <td>2015-01-30</td>\n",
       "    </tr>\n",
       "    <tr>\n",
       "      <th>1</th>\n",
       "      <td>26.389217</td>\n",
       "      <td>26.509340</td>\n",
       "      <td>25.821971</td>\n",
       "      <td>26.260198</td>\n",
       "      <td>250956400</td>\n",
       "      <td>25.267846</td>\n",
       "      <td>25.221196</td>\n",
       "      <td>25.765910</td>\n",
       "      <td>24.715614</td>\n",
       "      <td>0</td>\n",
       "      <td>66.039749</td>\n",
       "      <td>0</td>\n",
       "      <td>0</td>\n",
       "      <td>26.492460</td>\n",
       "      <td>22.938769</td>\n",
       "      <td>0</td>\n",
       "      <td>97.909025</td>\n",
       "      <td>-1</td>\n",
       "      <td>2015-02-02</td>\n",
       "    </tr>\n",
       "    <tr>\n",
       "      <th>2</th>\n",
       "      <td>26.393665</td>\n",
       "      <td>26.491542</td>\n",
       "      <td>26.162317</td>\n",
       "      <td>26.360298</td>\n",
       "      <td>207662800</td>\n",
       "      <td>25.488738</td>\n",
       "      <td>25.377525</td>\n",
       "      <td>26.189009</td>\n",
       "      <td>24.853533</td>\n",
       "      <td>0</td>\n",
       "      <td>64.899357</td>\n",
       "      <td>0</td>\n",
       "      <td>0</td>\n",
       "      <td>26.703991</td>\n",
       "      <td>23.003075</td>\n",
       "      <td>0</td>\n",
       "      <td>98.063907</td>\n",
       "      <td>-1</td>\n",
       "      <td>2015-02-03</td>\n",
       "    </tr>\n",
       "    <tr>\n",
       "      <th>3</th>\n",
       "      <td>26.596092</td>\n",
       "      <td>26.807421</td>\n",
       "      <td>26.318030</td>\n",
       "      <td>26.360296</td>\n",
       "      <td>280598800</td>\n",
       "      <td>25.711410</td>\n",
       "      <td>25.540001</td>\n",
       "      <td>26.378091</td>\n",
       "      <td>25.001462</td>\n",
       "      <td>0</td>\n",
       "      <td>66.956301</td>\n",
       "      <td>0</td>\n",
       "      <td>0</td>\n",
       "      <td>26.914579</td>\n",
       "      <td>23.088345</td>\n",
       "      <td>0</td>\n",
       "      <td>100.000000</td>\n",
       "      <td>-1</td>\n",
       "      <td>2015-02-04</td>\n",
       "    </tr>\n",
       "    <tr>\n",
       "      <th>4</th>\n",
       "      <td>26.785921</td>\n",
       "      <td>26.850686</td>\n",
       "      <td>26.631824</td>\n",
       "      <td>26.803786</td>\n",
       "      <td>168984800</td>\n",
       "      <td>25.889667</td>\n",
       "      <td>25.706124</td>\n",
       "      <td>26.445422</td>\n",
       "      <td>25.142310</td>\n",
       "      <td>0</td>\n",
       "      <td>75.500361</td>\n",
       "      <td>1</td>\n",
       "      <td>0</td>\n",
       "      <td>27.147910</td>\n",
       "      <td>23.136709</td>\n",
       "      <td>0</td>\n",
       "      <td>100.000000</td>\n",
       "      <td>-1</td>\n",
       "      <td>2015-02-05</td>\n",
       "    </tr>\n",
       "  </tbody>\n",
       "</table>\n",
       "</div>"
      ],
      "text/plain": [
       "       Close       High        Low       Open     Volume        SMA  \\\n",
       "0  26.062216  26.693972  25.993255  26.338053  334982000  24.986668   \n",
       "1  26.389217  26.509340  25.821971  26.260198  250956400  25.267846   \n",
       "2  26.393665  26.491542  26.162317  26.360298  207662800  25.488738   \n",
       "3  26.596092  26.807421  26.318030  26.360296  280598800  25.711410   \n",
       "4  26.785921  26.850686  26.631824  26.803786  168984800  25.889667   \n",
       "\n",
       "         EMA  SMA_short   SMA_long  Crossover_signal        RSI  RSI_signal  \\\n",
       "0  25.041500  25.519879  24.612175                 0  58.434388           0   \n",
       "1  25.221196  25.765910  24.715614                 0  66.039749           0   \n",
       "2  25.377525  26.189009  24.853533                 0  64.899357           0   \n",
       "3  25.540001  26.378091  25.001462                 0  66.956301           0   \n",
       "4  25.706124  26.445422  25.142310                 0  75.500361           1   \n",
       "\n",
       "   MACD_signal  Upper_Band  Lower_Band  BB_signal  Stochastic_Osc  SO_signal  \\\n",
       "0            0   26.210716   23.013634          0       86.522464         -1   \n",
       "1            0   26.492460   22.938769          0       97.909025         -1   \n",
       "2            0   26.703991   23.003075          0       98.063907         -1   \n",
       "3            0   26.914579   23.088345          0      100.000000         -1   \n",
       "4            0   27.147910   23.136709          0      100.000000         -1   \n",
       "\n",
       "        Date  \n",
       "0 2015-01-30  \n",
       "1 2015-02-02  \n",
       "2 2015-02-03  \n",
       "3 2015-02-04  \n",
       "4 2015-02-05  "
      ]
     },
     "execution_count": 6,
     "metadata": {},
     "output_type": "execute_result"
    }
   ],
   "source": [
    "df['Date'] = df.index\n",
    "df.reset_index(drop=True, inplace=True)\n",
    "df.head()"
   ]
  },
  {
   "cell_type": "markdown",
   "id": "8aa3e76f",
   "metadata": {},
   "source": [
    "Now that we have preprocessed our market data, including calculating technical indicators and resetting the index, the data is ready to be fed into our Q-Learning agent. We can proceed with training the agent using this cleaned and structured data."
   ]
  },
  {
   "cell_type": "markdown",
   "id": "f379a694",
   "metadata": {},
   "source": [
    "# Training the Q-Learning Agent\n",
    "\n",
    "To evaluate the performance of our Q-Learning agent, we first need to split the data into a training and testing set. Since we are working with time-series data, it’s important to respect the temporal order of the data to simulate real-world trading conditions, where the agent cannot see future data during training.\n",
    "\n",
    "We will split the data into 80% for training and 20% for testing."
   ]
  },
  {
   "cell_type": "code",
   "execution_count": 7,
   "id": "76755281",
   "metadata": {},
   "outputs": [
    {
     "data": {
      "text/html": [
       "<div>\n",
       "<style scoped>\n",
       "    .dataframe tbody tr th:only-of-type {\n",
       "        vertical-align: middle;\n",
       "    }\n",
       "\n",
       "    .dataframe tbody tr th {\n",
       "        vertical-align: top;\n",
       "    }\n",
       "\n",
       "    .dataframe thead th {\n",
       "        text-align: right;\n",
       "    }\n",
       "</style>\n",
       "<table border=\"1\" class=\"dataframe\">\n",
       "  <thead>\n",
       "    <tr style=\"text-align: right;\">\n",
       "      <th></th>\n",
       "      <th>Close</th>\n",
       "      <th>High</th>\n",
       "      <th>Low</th>\n",
       "      <th>Open</th>\n",
       "      <th>Volume</th>\n",
       "      <th>SMA</th>\n",
       "      <th>EMA</th>\n",
       "      <th>SMA_short</th>\n",
       "      <th>SMA_long</th>\n",
       "      <th>Crossover_signal</th>\n",
       "      <th>RSI</th>\n",
       "      <th>RSI_signal</th>\n",
       "      <th>MACD_signal</th>\n",
       "      <th>Upper_Band</th>\n",
       "      <th>Lower_Band</th>\n",
       "      <th>BB_signal</th>\n",
       "      <th>Stochastic_Osc</th>\n",
       "      <th>SO_signal</th>\n",
       "      <th>Date</th>\n",
       "    </tr>\n",
       "  </thead>\n",
       "  <tbody>\n",
       "    <tr>\n",
       "      <th>0</th>\n",
       "      <td>161.365311</td>\n",
       "      <td>161.857338</td>\n",
       "      <td>157.212598</td>\n",
       "      <td>157.950639</td>\n",
       "      <td>123511700</td>\n",
       "      <td>155.760136</td>\n",
       "      <td>157.895655</td>\n",
       "      <td>155.460986</td>\n",
       "      <td>158.747732</td>\n",
       "      <td>0</td>\n",
       "      <td>48.749995</td>\n",
       "      <td>0</td>\n",
       "      <td>1</td>\n",
       "      <td>167.440827</td>\n",
       "      <td>150.054637</td>\n",
       "      <td>0</td>\n",
       "      <td>83.814192</td>\n",
       "      <td>-1</td>\n",
       "      <td>2022-03-18</td>\n",
       "    </tr>\n",
       "    <tr>\n",
       "      <th>1</th>\n",
       "      <td>162.742996</td>\n",
       "      <td>163.697531</td>\n",
       "      <td>160.410776</td>\n",
       "      <td>160.902803</td>\n",
       "      <td>95811400</td>\n",
       "      <td>156.358444</td>\n",
       "      <td>158.541967</td>\n",
       "      <td>158.365915</td>\n",
       "      <td>158.653263</td>\n",
       "      <td>0</td>\n",
       "      <td>52.417935</td>\n",
       "      <td>0</td>\n",
       "      <td>0</td>\n",
       "      <td>167.115087</td>\n",
       "      <td>150.191439</td>\n",
       "      <td>0</td>\n",
       "      <td>92.597183</td>\n",
       "      <td>-1</td>\n",
       "      <td>2022-03-21</td>\n",
       "    </tr>\n",
       "    <tr>\n",
       "      <th>2</th>\n",
       "      <td>166.128143</td>\n",
       "      <td>166.718567</td>\n",
       "      <td>162.280485</td>\n",
       "      <td>162.870909</td>\n",
       "      <td>81532000</td>\n",
       "      <td>157.478299</td>\n",
       "      <td>159.553457</td>\n",
       "      <td>161.068130</td>\n",
       "      <td>158.874673</td>\n",
       "      <td>1</td>\n",
       "      <td>52.502205</td>\n",
       "      <td>0</td>\n",
       "      <td>0</td>\n",
       "      <td>167.886045</td>\n",
       "      <td>149.863302</td>\n",
       "      <td>0</td>\n",
       "      <td>100.000000</td>\n",
       "      <td>-1</td>\n",
       "      <td>2022-03-22</td>\n",
       "    </tr>\n",
       "    <tr>\n",
       "      <th>3</th>\n",
       "      <td>167.495987</td>\n",
       "      <td>169.887233</td>\n",
       "      <td>164.976794</td>\n",
       "      <td>165.311384</td>\n",
       "      <td>98062700</td>\n",
       "      <td>158.192726</td>\n",
       "      <td>160.612461</td>\n",
       "      <td>163.158264</td>\n",
       "      <td>159.373589</td>\n",
       "      <td>0</td>\n",
       "      <td>54.305495</td>\n",
       "      <td>0</td>\n",
       "      <td>0</td>\n",
       "      <td>169.141745</td>\n",
       "      <td>149.605432</td>\n",
       "      <td>0</td>\n",
       "      <td>100.000000</td>\n",
       "      <td>-1</td>\n",
       "      <td>2022-03-23</td>\n",
       "    </tr>\n",
       "    <tr>\n",
       "      <th>4</th>\n",
       "      <td>171.294434</td>\n",
       "      <td>171.363310</td>\n",
       "      <td>167.495981</td>\n",
       "      <td>168.332419</td>\n",
       "      <td>90131400</td>\n",
       "      <td>159.722931</td>\n",
       "      <td>162.036724</td>\n",
       "      <td>165.805374</td>\n",
       "      <td>159.931057</td>\n",
       "      <td>0</td>\n",
       "      <td>61.590845</td>\n",
       "      <td>0</td>\n",
       "      <td>0</td>\n",
       "      <td>171.062105</td>\n",
       "      <td>148.800008</td>\n",
       "      <td>-1</td>\n",
       "      <td>100.000000</td>\n",
       "      <td>-1</td>\n",
       "      <td>2022-03-24</td>\n",
       "    </tr>\n",
       "  </tbody>\n",
       "</table>\n",
       "</div>"
      ],
      "text/plain": [
       "        Close        High         Low        Open     Volume         SMA  \\\n",
       "0  161.365311  161.857338  157.212598  157.950639  123511700  155.760136   \n",
       "1  162.742996  163.697531  160.410776  160.902803   95811400  156.358444   \n",
       "2  166.128143  166.718567  162.280485  162.870909   81532000  157.478299   \n",
       "3  167.495987  169.887233  164.976794  165.311384   98062700  158.192726   \n",
       "4  171.294434  171.363310  167.495981  168.332419   90131400  159.722931   \n",
       "\n",
       "          EMA   SMA_short    SMA_long  Crossover_signal        RSI  \\\n",
       "0  157.895655  155.460986  158.747732                 0  48.749995   \n",
       "1  158.541967  158.365915  158.653263                 0  52.417935   \n",
       "2  159.553457  161.068130  158.874673                 1  52.502205   \n",
       "3  160.612461  163.158264  159.373589                 0  54.305495   \n",
       "4  162.036724  165.805374  159.931057                 0  61.590845   \n",
       "\n",
       "   RSI_signal  MACD_signal  Upper_Band  Lower_Band  BB_signal  Stochastic_Osc  \\\n",
       "0           0            1  167.440827  150.054637          0       83.814192   \n",
       "1           0            0  167.115087  150.191439          0       92.597183   \n",
       "2           0            0  167.886045  149.863302          0      100.000000   \n",
       "3           0            0  169.141745  149.605432          0      100.000000   \n",
       "4           0            0  171.062105  148.800008         -1      100.000000   \n",
       "\n",
       "   SO_signal       Date  \n",
       "0         -1 2022-03-18  \n",
       "1         -1 2022-03-21  \n",
       "2         -1 2022-03-22  \n",
       "3         -1 2022-03-23  \n",
       "4         -1 2022-03-24  "
      ]
     },
     "execution_count": 7,
     "metadata": {},
     "output_type": "execute_result"
    }
   ],
   "source": [
    "train_size = int(0.8 * len(df))\n",
    "train_data = df[:train_size]\n",
    "test_data = df[train_size:]\n",
    "test_data.reset_index(drop=True, inplace=True)\n",
    "test_data.head()"
   ]
  },
  {
   "cell_type": "markdown",
   "id": "9b4d45e9",
   "metadata": {},
   "source": [
    "First, we set up our trading environment."
   ]
  },
  {
   "cell_type": "code",
   "execution_count": 8,
   "id": "92ef1530",
   "metadata": {},
   "outputs": [
    {
     "data": {
      "text/plain": [
       "42"
      ]
     },
     "execution_count": 8,
     "metadata": {},
     "output_type": "execute_result"
    }
   ],
   "source": [
    "env = TradingEnv(data=train_data, initial_cash=10000, max_num_shares=100, max_short_position=100, cost_per_trade=0)\n",
    "env.action_space.seed(seed)"
   ]
  },
  {
   "cell_type": "markdown",
   "id": "ea5f040d",
   "metadata": {},
   "source": [
    "Next, we initialize our Q-Learning agent and train it on our train data."
   ]
  },
  {
   "cell_type": "code",
   "execution_count": 9,
   "id": "9fe488fd",
   "metadata": {},
   "outputs": [
    {
     "name": "stdout",
     "output_type": "stream",
     "text": [
      "Episode 1000/1000, Epsilon: 0.010\n",
      "Training finished!\n"
     ]
    }
   ],
   "source": [
    "agent = QLearningAgent(action_space=env.action_space, observation_space=env.observation_space)\n",
    "agent.train(env=env, num_episodes=1000)"
   ]
  },
  {
   "cell_type": "markdown",
   "id": "f337436c",
   "metadata": {},
   "source": [
    "# Evaluating the Q-Learning Agent on the Training Set\n",
    "\n",
    "In this section, we evaluate the performance of our agent on the training set and compare it to the performance of a random strategy."
   ]
  },
  {
   "cell_type": "code",
   "execution_count": 10,
   "id": "98f39a47",
   "metadata": {},
   "outputs": [],
   "source": [
    "state, _ = env.reset(seed=seed)"
   ]
  },
  {
   "cell_type": "markdown",
   "id": "20efb690",
   "metadata": {},
   "source": [
    "Next, we evaluate our agent on the training set. To do this, we will set epsilon to zero, meaning that the agent will no longer explore randomly but will instead always choose the action that maximizes the Q-values (pure exploitation of the learned policy).\n"
   ]
  },
  {
   "cell_type": "code",
   "execution_count": 11,
   "id": "8fdfac69",
   "metadata": {},
   "outputs": [],
   "source": [
    "agent.epsilon = 0\n",
    "done = False\n",
    "portfolio_value = np.zeros(len(train_data)-1)\n",
    "i = 0\n",
    "while not done:\n",
    "    action = agent.get_action(state)\n",
    "    state, _, done, _ = env.step(action)\n",
    "    portfolio_value[i] = env.portfolio_value\n",
    "    # print(f\"Position:  {env.current_position}, Portfolio value: {env.portfolio_value}\")\n",
    "    i+=1"
   ]
  },
  {
   "cell_type": "code",
   "execution_count": 12,
   "id": "3e0101ef",
   "metadata": {},
   "outputs": [
    {
     "data": {
      "text/plain": [
       "Text(0.5, 1.0, 'Q-Learning agent (Train Set)')"
      ]
     },
     "execution_count": 12,
     "metadata": {},
     "output_type": "execute_result"
    },
    {
     "data": {
      "image/png": "[encoded data removed]",
      "text/plain": [
       "<Figure size 640x480 with 1 Axes>"
      ]
     },
     "metadata": {},
     "output_type": "display_data"
    }
   ],
   "source": [
    "plt.plot(list(train_data[\"Date\"][:-1]), portfolio_value)\n",
    "plt.title('Q-Learning agent (Train Set)')"
   ]
  },
  {
   "cell_type": "markdown",
   "id": "67bf7b3d",
   "metadata": {},
   "source": [
    "Next, we compare our strategy to a random strategy."
   ]
  },
  {
   "cell_type": "code",
   "execution_count": 13,
   "id": "b0edc11a",
   "metadata": {},
   "outputs": [],
   "source": [
    "env.reset(seed=seed)\n",
    "done = False\n",
    "portfolio_value_random_strategy = []\n",
    "i = 0\n",
    "while not done:\n",
    "    action = env.action_space.sample()\n",
    "    state, _, done, _ = env.step(action)\n",
    "    portfolio_value_random_strategy.append(env.portfolio_value)\n",
    "    # print(f\"Position:  {env.current_position}, Portfolio value: {env.portfolio_value}\")\n",
    "    i+=1"
   ]
  },
  {
   "cell_type": "code",
   "execution_count": 14,
   "id": "4efc7fd4",
   "metadata": {},
   "outputs": [
    {
     "data": {
      "text/plain": [
       "Text(0.5, 1.0, 'Random Strategy (Train Set)')"
      ]
     },
     "execution_count": 14,
     "metadata": {},
     "output_type": "execute_result"
    },
    {
     "data": {
      "image/png": "[encoded data removed]",
      "text/plain": [
       "<Figure size 640x480 with 1 Axes>"
      ]
     },
     "metadata": {},
     "output_type": "display_data"
    }
   ],
   "source": [
    "plt.plot(list(train_data[\"Date\"][:-1]), portfolio_value_random_strategy)\n",
    "plt.title('Random Strategy (Train Set)')"
   ]
  },
  {
   "cell_type": "markdown",
   "id": "6601a369",
   "metadata": {},
   "source": [
    "# Evaluating the Q-Learning Agent on the Test Set\n",
    "\n",
    "In this section, we evaluate the Q-Learning Agent on the Test Set. To this end, we first initialiaze a new Trading environment, using the test data."
   ]
  },
  {
   "cell_type": "code",
   "execution_count": 15,
   "id": "2934976d",
   "metadata": {},
   "outputs": [
    {
     "data": {
      "text/plain": [
       "123"
      ]
     },
     "execution_count": 15,
     "metadata": {},
     "output_type": "execute_result"
    }
   ],
   "source": [
    "test_env = TradingEnv(data=test_data, initial_cash=10000, max_num_shares=100, max_short_position=100, cost_per_trade=0)\n",
    "test_env.action_space.seed(123)"
   ]
  },
  {
   "cell_type": "markdown",
   "id": "701c4dab",
   "metadata": {},
   "source": [
    "Next, we evaluate the performance of our Q-Learning Agent on the test set."
   ]
  },
  {
   "cell_type": "code",
   "execution_count": 16,
   "id": "5c10b403",
   "metadata": {},
   "outputs": [],
   "source": [
    "state, _ = test_env.reset(seed=seed)\n",
    "agent.epsilon = 0\n",
    "done = False\n",
    "portfolio_value_test = np.zeros(len(test_data)-1)\n",
    "i = 0\n",
    "while not done:\n",
    "    action = agent.get_action(state)\n",
    "    state, _, done, _ = test_env.step(action)\n",
    "    portfolio_value_test[i] = test_env.portfolio_value\n",
    "    # print(f\"Position:  {test_env.current_position}, Portfolio value: {test_env.portfolio_value}\")\n",
    "    i+=1"
   ]
  },
  {
   "cell_type": "code",
   "execution_count": 17,
   "id": "30d78e21",
   "metadata": {},
   "outputs": [
    {
     "data": {
      "text/plain": [
       "Text(0.5, 1.0, 'Q-Learning agent (Train Set)')"
      ]
     },
     "execution_count": 17,
     "metadata": {},
     "output_type": "execute_result"
    },
    {
     "data": {
      "image/png": "[encoded data removed]",
      "text/plain": [
       "<Figure size 640x480 with 1 Axes>"
      ]
     },
     "metadata": {},
     "output_type": "display_data"
    }
   ],
   "source": [
    "plt.plot(list(test_data[\"Date\"][:-1]), portfolio_value_test)\n",
    "plt.title('Q-Learning agent (Train Set)')"
   ]
  },
  {
   "cell_type": "markdown",
   "id": "2e01b5e3",
   "metadata": {},
   "source": [
    "We compare the performance of our Q-Learning agent to the performance of a simple buy-and-hold strategy of the underlying asset over the same time period."
   ]
  },
  {
   "cell_type": "code",
   "execution_count": 19,
   "id": "a43551bb",
   "metadata": {},
   "outputs": [
    {
     "data": {
      "text/plain": [
       "Text(0.5, 1.0, 'Apple (AAPL)')"
      ]
     },
     "execution_count": 19,
     "metadata": {},
     "output_type": "execute_result"
    },
    {
     "data": {
      "image/png": "[encoded data removed]",
      "text/plain": [
       "<Figure size 640x480 with 1 Axes>"
      ]
     },
     "metadata": {},
     "output_type": "display_data"
    }
   ],
   "source": [
    "initial_num_shares = 10000/test_data[\"Close\"][0]\n",
    "plt.plot(test_data['Date'],test_data['Close']*initial_num_shares)\n",
    "plt.title(\"Apple (AAPL)\")"
   ]
  },
  {
   "cell_type": "markdown",
   "id": "48464c8d",
   "metadata": {},
   "source": [
    "Finally, we compare the performance of the Q-Learning agent to that of a random strategy over the same period."
   ]
  },
  {
   "cell_type": "code",
   "execution_count": 20,
   "id": "cc8b11fd",
   "metadata": {},
   "outputs": [],
   "source": [
    "test_env.reset(seed=seed)\n",
    "done = False\n",
    "portfolio_value_random_strategy_test = []\n",
    "i = 0\n",
    "while not done:\n",
    "    action = env.action_space.sample()\n",
    "    state, _, done, _ = test_env.step(action)\n",
    "    portfolio_value_random_strategy_test.append(test_env.portfolio_value)\n",
    "    # print(f\"Position:  {test_env.current_position}, Portfolio value: {test_env.portfolio_value}\")\n",
    "    i+=1"
   ]
  },
  {
   "cell_type": "code",
   "execution_count": 21,
   "id": "62bd253f",
   "metadata": {},
   "outputs": [
    {
     "data": {
      "text/plain": [
       "Text(0.5, 1.0, 'Random Strategy (Test Set)')"
      ]
     },
     "execution_count": 21,
     "metadata": {},
     "output_type": "execute_result"
    },
    {
     "data": {
      "image/png": "[encoded data removed]",
      "text/plain": [
       "<Figure size 640x480 with 1 Axes>"
      ]
     },
     "metadata": {},
     "output_type": "display_data"
    }
   ],
   "source": [
    "plt.plot(list(test_data[\"Date\"][:-1]), portfolio_value_random_strategy_test)\n",
    "plt.title('Random Strategy (Test Set)')"
   ]
  }
 ],
 "metadata": {
  "kernelspec": {
   "display_name": ".venv",
   "language": "python",
   "name": "python3"
  },
  "language_info": {
   "codemirror_mode": {
    "name": "ipython",
    "version": 3
   },
   "file_extension": ".py",
   "mimetype": "text/x-python",
   "name": "python",
   "nbconvert_exporter": "python",
   "pygments_lexer": "ipython3",
   "version": "3.9.6"
  }
 },
 "nbformat": 4,
 "nbformat_minor": 5
}
